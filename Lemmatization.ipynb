{
 "cells": [
  {
   "cell_type": "code",
   "execution_count": 15,
   "metadata": {},
   "outputs": [],
   "source": [
    "import nltk\n",
    "from nltk.stem import WordNetLemmatizer\n",
    "from nltk.corpus import stopwords"
   ]
  },
  {
   "cell_type": "code",
   "execution_count": 24,
   "metadata": {},
   "outputs": [],
   "source": [
    "#Dataset\n",
    "paragraph = \"\"\"Hello Kese ho bro\"\"\""
   ]
  },
  {
   "cell_type": "code",
   "execution_count": 25,
   "metadata": {},
   "outputs": [],
   "source": [
    "sentences = nltk.sent_tokenize(paragraph)\n",
    "lemmatizer = WordNetLemmatizer()"
   ]
  },
  {
   "cell_type": "code",
   "execution_count": 26,
   "metadata": {},
   "outputs": [
    {
     "name": "stdout",
     "output_type": "stream",
     "text": [
      "Apple developed series Macintosh operating system .\n",
      "The first version initially name came known `` Macintosh System Software '' 1988 , `` Mac OS '' 1997 release Mac OS 7.6 , retrospectively called `` Classic Mac OS '' .\n",
      "Apple produced Unix-based operating system Macintosh called A/UX 1988 1995 , closely resembled contemporary version Macintosh system software .\n",
      "Apple license macOS use non-Apple computer , however , System 7 licensed various company Apple 's Macintosh clone program 1995 1997 .\n",
      "Only one company , UMAX Technologies legally licensed ship clone running Mac OS 8 .\n",
      "[ 5 ] In 2001 , Apple released Mac OS X , modern Unix-based operating system later rebranded simply OS X 2012 , macOS 2016 .\n",
      "The current version macOS Catalina , released October 7 , 2019 .\n",
      "[ 6 ] Intel-based Macs capable running native third party operating system Linux , FreeBSD , Microsoft Windows aid Boot Camp third-party software .\n",
      "Volunteer community customized Intel-based macOS run illicitly non-Apple computer .\n",
      "The Macintosh family computer operated using variety different CPU architecture since introduction .\n",
      "Originally used Motorola 68000 series microprocessor .\n",
      "In mid 1990s transitioned PowerPC processor , mid 2000s began use 32- 64-bit Intel x86 processor .\n",
      "Apple confirmed transitioning CPU architecture , time ARM-based processor use Macintosh beginning 2020 .\n",
      "[ 7 ]\n"
     ]
    }
   ],
   "source": [
    "for i in range(len(sentences)):\n",
    "    words = nltk.word_tokenize(sentences[i])\n",
    "    words = [lemmatizer. lemmatize(word) for word in words if word not in set(stopwords.words('english'))]\n",
    "    sentences[i] = ' '.join(words)\n",
    "    print(sentences[i])"
   ]
  },
  {
   "cell_type": "code",
   "execution_count": null,
   "metadata": {},
   "outputs": [],
   "source": []
  }
 ],
 "metadata": {
  "kernelspec": {
   "display_name": "Python 3",
   "language": "python",
   "name": "python3"
  },
  "language_info": {
   "codemirror_mode": {
    "name": "ipython",
    "version": 3
   },
   "file_extension": ".py",
   "mimetype": "text/x-python",
   "name": "python",
   "nbconvert_exporter": "python",
   "pygments_lexer": "ipython3",
   "version": "3.7.6"
  }
 },
 "nbformat": 4,
 "nbformat_minor": 4
}
