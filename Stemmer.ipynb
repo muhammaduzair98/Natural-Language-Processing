{
 "cells": [
  {
   "cell_type": "code",
   "execution_count": 48,
   "metadata": {},
   "outputs": [],
   "source": [
    "import nltk\n",
    "from nltk.corpus import stopwords"
   ]
  },
  {
   "cell_type": "code",
   "execution_count": null,
   "metadata": {},
   "outputs": [],
   "source": []
  },
  {
   "cell_type": "code",
   "execution_count": 67,
   "metadata": {},
   "outputs": [],
   "source": [
    "#Dataset\n",
    "paragraph = \"\"\"Apple has developed a series of Macintosh operating systems. The first versions initially had no name but came to be known as the \"Macintosh System Software\" in 1988, \"Mac OS\" in 1997 with the release of Mac OS 7.6, and retrospectively called \"Classic Mac OS\". Apple produced a Unix-based operating system for the Macintosh called A/UX from 1988 to 1995, which closely resembled contemporary versions of the Macintosh system software. Apple does not license macOS for use on non-Apple computers, however, System 7 was licensed to various companies through Apple's Macintosh clone program from 1995 to 1997. Only one company, UMAX Technologies was legally licensed to ship clones running Mac OS 8.[5]\n",
    "\n",
    "In 2001, Apple released Mac OS X, a modern Unix-based operating system which was later rebranded to simply OS X in 2012, and then macOS in 2016. The current version is macOS Catalina, released on October 7, 2019.[6] Intel-based Macs are capable of running native third party operating systems such as Linux, FreeBSD, and Microsoft Windows with the aid of Boot Camp or third-party software. Volunteer communities have customized Intel-based macOS to run illicitly on non-Apple computers.\n",
    "\n",
    "The Macintosh family of computers have operated using a variety of different CPU architectures since its introduction. Originally they used the Motorola 68000 series of microprocessors. In the mid 1990s they transitioned to PowerPC processors, and again in the mid 2000s they began to use 32- and 64-bit Intel x86 processors. Apple has confirmed that it will be transitioning CPU architectures again, this time to its own ARM-based processors for use in the Macintosh beginning in 2020.[7]\"\"\""
   ]
  },
  {
   "cell_type": "code",
   "execution_count": 68,
   "metadata": {},
   "outputs": [
    {
     "data": {
      "text/plain": [
       "['Apple has developed a series of Macintosh operating systems.',\n",
       " 'The first versions initially had no name but came to be known as the \"Macintosh System Software\" in 1988, \"Mac OS\" in 1997 with the release of Mac OS 7.6, and retrospectively called \"Classic Mac OS\".',\n",
       " 'Apple produced a Unix-based operating system for the Macintosh called A/UX from 1988 to 1995, which closely resembled contemporary versions of the Macintosh system software.',\n",
       " \"Apple does not license macOS for use on non-Apple computers, however, System 7 was licensed to various companies through Apple's Macintosh clone program from 1995 to 1997.\",\n",
       " 'Only one company, UMAX Technologies was legally licensed to ship clones running Mac OS 8.',\n",
       " '[5]\\n\\nIn 2001, Apple released Mac OS X, a modern Unix-based operating system which was later rebranded to simply OS X in 2012, and then macOS in 2016.',\n",
       " 'The current version is macOS Catalina, released on October 7, 2019.',\n",
       " '[6] Intel-based Macs are capable of running native third party operating systems such as Linux, FreeBSD, and Microsoft Windows with the aid of Boot Camp or third-party software.',\n",
       " 'Volunteer communities have customized Intel-based macOS to run illicitly on non-Apple computers.',\n",
       " 'The Macintosh family of computers have operated using a variety of different CPU architectures since its introduction.',\n",
       " 'Originally they used the Motorola 68000 series of microprocessors.',\n",
       " 'In the mid 1990s they transitioned to PowerPC processors, and again in the mid 2000s they began to use 32- and 64-bit Intel x86 processors.',\n",
       " 'Apple has confirmed that it will be transitioning CPU architectures again, this time to its own ARM-based processors for use in the Macintosh beginning in 2020.',\n",
       " '[7]']"
      ]
     },
     "execution_count": 68,
     "metadata": {},
     "output_type": "execute_result"
    }
   ],
   "source": [
    "sentences = nltk.sent_tokenize(paragraph)\n",
    "sentences"
   ]
  },
  {
   "cell_type": "code",
   "execution_count": 69,
   "metadata": {},
   "outputs": [],
   "source": [
    "from nltk.stem import PorterStemmer \n",
    "\n",
    "stemmer = PorterStemmer()"
   ]
  },
  {
   "cell_type": "code",
   "execution_count": 70,
   "metadata": {},
   "outputs": [
    {
     "name": "stdout",
     "output_type": "stream",
     "text": [
      "appl develop seri macintosh oper system .\n",
      "the first version initi name came known `` macintosh system softwar '' 1988 , `` mac OS '' 1997 releas mac OS 7.6 , retrospect call `` classic mac OS '' .\n",
      "appl produc unix-bas oper system macintosh call a/ux 1988 1995 , close resembl contemporari version macintosh system softwar .\n",
      "appl licens maco use non-appl comput , howev , system 7 licens variou compani appl 's macintosh clone program 1995 1997 .\n",
      "onli one compani , umax technolog legal licens ship clone run mac OS 8 .\n",
      "[ 5 ] In 2001 , appl releas mac OS X , modern unix-bas oper system later rebrand simpli OS X 2012 , maco 2016 .\n",
      "the current version maco catalina , releas octob 7 , 2019 .\n",
      "[ 6 ] intel-bas mac capabl run nativ third parti oper system linux , freebsd , microsoft window aid boot camp third-parti softwar .\n",
      "volunt commun custom intel-bas maco run illicitli non-appl comput .\n",
      "the macintosh famili comput oper use varieti differ cpu architectur sinc introduct .\n",
      "origin use motorola 68000 seri microprocessor .\n",
      "In mid 1990 transit powerpc processor , mid 2000 began use 32- 64-bit intel x86 processor .\n",
      "appl confirm transit cpu architectur , time arm-bas processor use macintosh begin 2020 .\n",
      "[ 7 ]\n"
     ]
    }
   ],
   "source": [
    "#Stremming\n",
    "\n",
    "for i in range(len(sentences)):\n",
    "    words = nltk.word_tokenize(sentences[i])\n",
    "    words = [stemmer.stem(word) \n",
    "             for word in words \n",
    "                 if word not in set(stopwords.words('english'))]\n",
    "    sentences[i] = ' '.join(words)\n",
    "    print (sentences[i])"
   ]
  },
  {
   "cell_type": "code",
   "execution_count": null,
   "metadata": {},
   "outputs": [],
   "source": []
  },
  {
   "cell_type": "code",
   "execution_count": null,
   "metadata": {},
   "outputs": [],
   "source": []
  }
 ],
 "metadata": {
  "kernelspec": {
   "display_name": "Python 3",
   "language": "python",
   "name": "python3"
  },
  "language_info": {
   "codemirror_mode": {
    "name": "ipython",
    "version": 3
   },
   "file_extension": ".py",
   "mimetype": "text/x-python",
   "name": "python",
   "nbconvert_exporter": "python",
   "pygments_lexer": "ipython3",
   "version": "3.7.6"
  }
 },
 "nbformat": 4,
 "nbformat_minor": 4
}
